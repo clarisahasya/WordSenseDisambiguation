{
  "nbformat": 4,
  "nbformat_minor": 0,
  "metadata": {
    "colab": {
      "name": "Tugas Pekan 9 - NLP - WSD Lesk.ipynb",
      "provenance": [],
      "collapsed_sections": []
    },
    "kernelspec": {
      "name": "python3",
      "display_name": "Python 3"
    }
  },
  "cells": [
    {
      "cell_type": "markdown",
      "metadata": {
        "id": "JSSwRPjNJ3A2"
      },
      "source": [
        "# Word Sense Disambiguation.\n",
        "\n",
        "Clarisa Hasya Y - 1301174256"
      ]
    },
    {
      "cell_type": "code",
      "metadata": {
        "colab": {
          "base_uri": "https://localhost:8080/"
        },
        "id": "afRepboY9ytX",
        "outputId": "3ae762f6-7402-472a-a9cf-c7acde1d4983"
      },
      "source": [
        "pip install Sastrawi"
      ],
      "execution_count": 1,
      "outputs": [
        {
          "output_type": "stream",
          "text": [
            "Collecting Sastrawi\n",
            "\u001b[?25l  Downloading https://files.pythonhosted.org/packages/6f/4b/bab676953da3103003730b8fcdfadbdd20f333d4add10af949dd5c51e6ed/Sastrawi-1.0.1-py2.py3-none-any.whl (209kB)\n",
            "\r\u001b[K     |█▋                              | 10kB 18.0MB/s eta 0:00:01\r\u001b[K     |███▏                            | 20kB 20.0MB/s eta 0:00:01\r\u001b[K     |████▊                           | 30kB 11.2MB/s eta 0:00:01\r\u001b[K     |██████▎                         | 40kB 7.5MB/s eta 0:00:01\r\u001b[K     |███████▉                        | 51kB 4.2MB/s eta 0:00:01\r\u001b[K     |█████████▍                      | 61kB 4.5MB/s eta 0:00:01\r\u001b[K     |███████████                     | 71kB 5.1MB/s eta 0:00:01\r\u001b[K     |████████████▌                   | 81kB 5.2MB/s eta 0:00:01\r\u001b[K     |██████████████                  | 92kB 5.4MB/s eta 0:00:01\r\u001b[K     |███████████████▋                | 102kB 5.9MB/s eta 0:00:01\r\u001b[K     |█████████████████▏              | 112kB 5.9MB/s eta 0:00:01\r\u001b[K     |██████████████████▊             | 122kB 5.9MB/s eta 0:00:01\r\u001b[K     |████████████████████▎           | 133kB 5.9MB/s eta 0:00:01\r\u001b[K     |█████████████████████▉          | 143kB 5.9MB/s eta 0:00:01\r\u001b[K     |███████████████████████▍        | 153kB 5.9MB/s eta 0:00:01\r\u001b[K     |█████████████████████████       | 163kB 5.9MB/s eta 0:00:01\r\u001b[K     |██████████████████████████▋     | 174kB 5.9MB/s eta 0:00:01\r\u001b[K     |████████████████████████████▏   | 184kB 5.9MB/s eta 0:00:01\r\u001b[K     |█████████████████████████████▊  | 194kB 5.9MB/s eta 0:00:01\r\u001b[K     |███████████████████████████████▎| 204kB 5.9MB/s eta 0:00:01\r\u001b[K     |████████████████████████████████| 215kB 5.9MB/s \n",
            "\u001b[?25hInstalling collected packages: Sastrawi\n",
            "Successfully installed Sastrawi-1.0.1\n"
          ],
          "name": "stdout"
        }
      ]
    },
    {
      "cell_type": "code",
      "metadata": {
        "colab": {
          "base_uri": "https://localhost:8080/"
        },
        "id": "kZo3N0VHDo-0",
        "outputId": "2e89da81-0bd6-4cc5-fc4b-4fe0d5d5041c"
      },
      "source": [
        "pip install kbbi"
      ],
      "execution_count": 2,
      "outputs": [
        {
          "output_type": "stream",
          "text": [
            "Collecting kbbi\n",
            "  Downloading https://files.pythonhosted.org/packages/d8/fd/6fcb45cb373cd780d1b2208fd9fd247917472a440069460386a6e97b0d03/kbbi-0.4.2-py3-none-any.whl\n",
            "Requirement already satisfied: requests in /usr/local/lib/python3.6/dist-packages (from kbbi) (2.23.0)\n",
            "Collecting appdirs\n",
            "  Downloading https://files.pythonhosted.org/packages/3b/00/2344469e2084fb287c2e0b57b72910309874c3245463acd6cf5e3db69324/appdirs-1.4.4-py2.py3-none-any.whl\n",
            "Requirement already satisfied: beautifulsoup4 in /usr/local/lib/python3.6/dist-packages (from kbbi) (4.6.3)\n",
            "Requirement already satisfied: idna<3,>=2.5 in /usr/local/lib/python3.6/dist-packages (from requests->kbbi) (2.10)\n",
            "Requirement already satisfied: certifi>=2017.4.17 in /usr/local/lib/python3.6/dist-packages (from requests->kbbi) (2020.6.20)\n",
            "Requirement already satisfied: urllib3!=1.25.0,!=1.25.1,<1.26,>=1.21.1 in /usr/local/lib/python3.6/dist-packages (from requests->kbbi) (1.24.3)\n",
            "Requirement already satisfied: chardet<4,>=3.0.2 in /usr/local/lib/python3.6/dist-packages (from requests->kbbi) (3.0.4)\n",
            "Installing collected packages: appdirs, kbbi\n",
            "Successfully installed appdirs-1.4.4 kbbi-0.4.2\n"
          ],
          "name": "stdout"
        }
      ]
    },
    {
      "cell_type": "code",
      "metadata": {
        "id": "b_lPxeVcH_tW",
        "colab": {
          "base_uri": "https://localhost:8080/"
        },
        "outputId": "34ec17cc-1c53-4c40-cefd-1c35ae9d927d"
      },
      "source": [
        "from kbbi import KBBI\n",
        "from Sastrawi.StopWordRemover.StopWordRemoverFactory import StopWordRemoverFactory\n",
        "import pandas as pd\n",
        "import re\n",
        "import nltk\n",
        "nltk.download('punkt')"
      ],
      "execution_count": 3,
      "outputs": [
        {
          "output_type": "stream",
          "text": [
            "[nltk_data] Downloading package punkt to /root/nltk_data...\n",
            "[nltk_data]   Unzipping tokenizers/punkt.zip.\n"
          ],
          "name": "stdout"
        },
        {
          "output_type": "execute_result",
          "data": {
            "text/plain": [
              "True"
            ]
          },
          "metadata": {
            "tags": []
          },
          "execution_count": 3
        }
      ]
    },
    {
      "cell_type": "code",
      "metadata": {
        "colab": {
          "base_uri": "https://localhost:8080/"
        },
        "id": "b86q0yXqD6M9",
        "outputId": "accb4bc1-32ad-4944-88fd-699b135b9971"
      },
      "source": [
        "print(KBBI('bisa'))"
      ],
      "execution_count": 4,
      "outputs": [
        {
          "output_type": "stream",
          "text": [
            "bi.sa (1)\n",
            "(v)  mampu (kuasa melakukan sesuatu); dapat: ia -- membaca, tetapi tidak -- menulis\n",
            "\n",
            "bi.sa (2)\n",
            "1. (n)  zat racun yang dapat menyebabkan luka, busuk, atau mati bagi sesuatu yang hidup (biasanya terdapat pada binatang)\n",
            "2. (n) (ki)  sesuatu yang buruk, yang dapat merusakkan akhlak manusia atau masyarakat: ajaranmu itu akan menjadi -- bagi kami\n",
            "\n",
            "bi.sa (3)\n",
            "(n) (Wl)  sapaan kepada dukun yang berasal dari golongan bangsawan dan walaka yang biasa melakukan upacara adat pingitan\n"
          ],
          "name": "stdout"
        }
      ]
    },
    {
      "cell_type": "code",
      "metadata": {
        "colab": {
          "base_uri": "https://localhost:8080/"
        },
        "id": "dHM3Lv18PWfJ",
        "outputId": "59c7e5a8-47f4-401c-e25d-f4b3094254e1"
      },
      "source": [
        "print(KBBI('bunga'))"
      ],
      "execution_count": 5,
      "outputs": [
        {
          "output_type": "stream",
          "text": [
            "bu.nga (1)\n",
            "1. (n)  bagian tumbuhan yang akan menjadi buah, biasanya elok warnanya dan harum baunya; kembang: -- mangga; -- rambutan\n",
            "2. (n)  jenis untuk berbagai-bagai bunga: -- melati; -- mawar\n",
            "3. (n)  gambar hiasan (pada kain, pamor ukiran, dan sebagainya)\n",
            "4. (n)  tambahan untuk memperindah: ceritanya itu sudah banyak --nya\n",
            "5. (n)  tanda-tanda baik: sudah tampak --nya bahwa tuntutan kita akan berhasil\n",
            "6. (n) (ki)  sesuatu yang dianggap elok (cantik) seperti bunga: gadis itu adalah -- di kampungnya\n",
            "7. (n) (ki)  nama yang dipakai untuk beberapa jenis tumbuhan yang tidak berkerabat satu sama lain, seperti -- bangkai, -- ketongkeng, -- manila\n",
            "\n",
            "bu.nga (2)\n",
            "1. (n) (Ek)  imbalan jasa untuk penggunaan uang atau modal yang dibayar pada waktu tertentu berdasarkan ketentuan atau kesepakatan, umumnya dinyatakan sebagai persentase dari modal pokok\n",
            "2. (n) (Ek)  pendapatan atas setiap investasi modal\n"
          ],
          "name": "stdout"
        }
      ]
    },
    {
      "cell_type": "code",
      "metadata": {
        "colab": {
          "base_uri": "https://localhost:8080/"
        },
        "id": "yaCHSbNvPamW",
        "outputId": "1ba695b8-3f0e-4685-db95-24122a622a6d"
      },
      "source": [
        "print(KBBI('tahu'))"
      ],
      "execution_count": 6,
      "outputs": [
        {
          "output_type": "stream",
          "text": [
            "ta.hu (1)\n",
            "1. (v)  mengerti sesudah melihat (menyaksikan, mengalami, dan sebagainya): ia -- bahwa saya yang menolongnya; perkara mesin, dia lebih -- daripada saya\n",
            "2. (v)  kenal (akan); mengenal: ia tidak -- akan sanak saudaranya lagi\n",
            "3. (v)  mengindahkan; memedulikan: ia sudah tidak mau -- lagi kepada anaknya\n",
            "4. (v)  mengerti; berpengertian: siapa yang -- apa maksud tanda ini?\n",
            "5. (v)  pandai; cakap: sedikit-sedikit saya -- juga tentang mesin\n",
            "6. (v)  insaf; sadar: dia tidak -- akan kekurangannya\n",
            "7. (v) (cak)  pernah: petinju itu tidak -- menang; adikku tidak -- membolos\n",
            "\n",
            "ta.hu (2)\n",
            "(n)  makanan dari kedelai putih yang digiling halus-halus, direbus, dan dicetak\n"
          ],
          "name": "stdout"
        }
      ]
    },
    {
      "cell_type": "code",
      "metadata": {
        "colab": {
          "base_uri": "https://localhost:8080/",
          "height": 680
        },
        "id": "D4slUOMLXOx_",
        "outputId": "d572a254-41fb-4bbd-cb9c-aead4335386a"
      },
      "source": [
        "thesaurus = pd.DataFrame(\n",
        "    [\n",
        "        ['bisa', 'bi.sa (1) (v)', 'mampu (kuasa melakukan sesuatu); dapat','ia -- membaca, tetapi tidak -- menulis'],\n",
        "        ['bisa', 'bi.sa (2) (n) 1', 'zat racun yang dapat menyebabkan luka, busuk, atau mati bagi sesuatu yang hidup (biasanya terdapat pada binatang)'],\n",
        "        ['bisa', 'bi.sa (2) (n) (ki) 2', 'sesuatu yang buruk, yang dapat merusakkan akhlak manusia atau masyarakat', 'ajaranmu itu akan menjadi -- bagi kami'],\n",
        "        ['bisa', 'bi.sa (3) (n) (Wl)', 'sapaan kepada dukun yang berasal dari golongan bangsawan dan walaka yang biasa melakukan upacara adat pingitan'],\n",
        "        ['bunga', 'bu.nga (1) (n) 1', 'bagian tumbuhan yang akan menjadi buah, biasanya elok warnanya dan harum baunya; kembang', '-- mangga; -- rambutan'],\n",
        "        ['bunga', 'bu.nga (1) (n) 2', 'jenis untuk berbagai-bagai bunga', '-- melati; -- mawar'],\n",
        "        ['bunga', 'bu.nga (1) (n) 3', 'gambar hiasan (pada kain, pamor ukiran, dan sebagainya)'],\n",
        "        ['bunga', 'bu.nga (1) (n) 4', 'tambahan untuk memperindah', 'ceritanya itu sudah banyak --nya'], \n",
        "        ['bunga', 'bu.nga (1) (n) 5', 'tanda-tanda baik', 'sudah tampak --nya bahwa tuntutan kita akan berhasil'],\n",
        "        ['bunga', 'bu.nga (1) (n) (ki) 6', 'sesuatu yang dianggap elok (cantik) seperti bunga', 'gadis itu adalah -- di kampungnya'],\n",
        "        ['bunga', 'bu.nga (1) (n) (ki) 7', 'nama yang dipakai untuk beberapa jenis tumbuhan yang tidak berkerabat satu sama lain', ' -- bangkai, -- ketongkeng, -- manila'],\n",
        "        ['bunga', 'bu.nga (2) (n) (Ek) 1', 'imbalan jasa untuk penggunaan uang atau modal yang dibayar pada waktu tertentu berdasarkan ketentuan atau kesepakatan, umumnya dinyatakan sebagai persentase dari modal pokok'],\n",
        "        ['bunga', 'bu.nga (2) (n) (Ek) 2', 'pendapatan atas setiap investasi modal'],\n",
        "        ['tahu', 'ta.hu (1) (v) 1', 'mengerti sesudah melihat (menyaksikan, mengalami, dan sebagainya)', 'ia -- bahwa saya yang menolongnya; perkara mesin, dia lebih -- daripada saya'],\n",
        "        ['tahu', 'ta.hu (1) (v) 2', '(v)  kenal (akan); mengenal', 'ia tidak -- akan sanak saudaranya lagi'],\n",
        "        ['tahu', 'ta.hu (1) (v) 3', 'mengindahkan; memedulikan', 'ia sudah tidak mau -- lagi kepada anaknya'],\n",
        "        ['tahu', 'ta.hu (1) (v) 4', 'mengerti; berpengertian', 'siapa yang -- apa maksud tanda ini?'],\n",
        "        ['tahu', 'ta.hu (1) (v) 5', 'pandai; cakap', 'sedikit-sedikit saya -- juga tentang mesin'],\n",
        "        ['tahu', 'ta.hu (1) (v) 6', 'insaf; sadar', 'dia tidak -- akan kekurangannya'],\n",
        "        ['tahu', 'ta.hu (1) (v) (cak) 7', 'pernah', 'petinju itu tidak -- menang, adikku tidak -- membolos'],\n",
        "        ['tahu', 'ta.hu (2) (n)', 'makanan dari kedelai putih yang digiling halus-halus, direbus, dan dicetak']     \n",
        "    ],\n",
        "    columns=['word', 'sense','definition','examples']\n",
        ")\n",
        "\n",
        "thesaurus = thesaurus.set_index('word')\n",
        "thesaurus"
      ],
      "execution_count": 7,
      "outputs": [
        {
          "output_type": "execute_result",
          "data": {
            "text/html": [
              "<div>\n",
              "<style scoped>\n",
              "    .dataframe tbody tr th:only-of-type {\n",
              "        vertical-align: middle;\n",
              "    }\n",
              "\n",
              "    .dataframe tbody tr th {\n",
              "        vertical-align: top;\n",
              "    }\n",
              "\n",
              "    .dataframe thead th {\n",
              "        text-align: right;\n",
              "    }\n",
              "</style>\n",
              "<table border=\"1\" class=\"dataframe\">\n",
              "  <thead>\n",
              "    <tr style=\"text-align: right;\">\n",
              "      <th></th>\n",
              "      <th>sense</th>\n",
              "      <th>definition</th>\n",
              "      <th>examples</th>\n",
              "    </tr>\n",
              "    <tr>\n",
              "      <th>word</th>\n",
              "      <th></th>\n",
              "      <th></th>\n",
              "      <th></th>\n",
              "    </tr>\n",
              "  </thead>\n",
              "  <tbody>\n",
              "    <tr>\n",
              "      <th>bisa</th>\n",
              "      <td>bi.sa (1) (v)</td>\n",
              "      <td>mampu (kuasa melakukan sesuatu); dapat</td>\n",
              "      <td>ia -- membaca, tetapi tidak -- menulis</td>\n",
              "    </tr>\n",
              "    <tr>\n",
              "      <th>bisa</th>\n",
              "      <td>bi.sa (2) (n) 1</td>\n",
              "      <td>zat racun yang dapat menyebabkan luka, busuk, ...</td>\n",
              "      <td>None</td>\n",
              "    </tr>\n",
              "    <tr>\n",
              "      <th>bisa</th>\n",
              "      <td>bi.sa (2) (n) (ki) 2</td>\n",
              "      <td>sesuatu yang buruk, yang dapat merusakkan akhl...</td>\n",
              "      <td>ajaranmu itu akan menjadi -- bagi kami</td>\n",
              "    </tr>\n",
              "    <tr>\n",
              "      <th>bisa</th>\n",
              "      <td>bi.sa (3) (n) (Wl)</td>\n",
              "      <td>sapaan kepada dukun yang berasal dari golongan...</td>\n",
              "      <td>None</td>\n",
              "    </tr>\n",
              "    <tr>\n",
              "      <th>bunga</th>\n",
              "      <td>bu.nga (1) (n) 1</td>\n",
              "      <td>bagian tumbuhan yang akan menjadi buah, biasan...</td>\n",
              "      <td>-- mangga; -- rambutan</td>\n",
              "    </tr>\n",
              "    <tr>\n",
              "      <th>bunga</th>\n",
              "      <td>bu.nga (1) (n) 2</td>\n",
              "      <td>jenis untuk berbagai-bagai bunga</td>\n",
              "      <td>-- melati; -- mawar</td>\n",
              "    </tr>\n",
              "    <tr>\n",
              "      <th>bunga</th>\n",
              "      <td>bu.nga (1) (n) 3</td>\n",
              "      <td>gambar hiasan (pada kain, pamor ukiran, dan se...</td>\n",
              "      <td>None</td>\n",
              "    </tr>\n",
              "    <tr>\n",
              "      <th>bunga</th>\n",
              "      <td>bu.nga (1) (n) 4</td>\n",
              "      <td>tambahan untuk memperindah</td>\n",
              "      <td>ceritanya itu sudah banyak --nya</td>\n",
              "    </tr>\n",
              "    <tr>\n",
              "      <th>bunga</th>\n",
              "      <td>bu.nga (1) (n) 5</td>\n",
              "      <td>tanda-tanda baik</td>\n",
              "      <td>sudah tampak --nya bahwa tuntutan kita akan be...</td>\n",
              "    </tr>\n",
              "    <tr>\n",
              "      <th>bunga</th>\n",
              "      <td>bu.nga (1) (n) (ki) 6</td>\n",
              "      <td>sesuatu yang dianggap elok (cantik) seperti bunga</td>\n",
              "      <td>gadis itu adalah -- di kampungnya</td>\n",
              "    </tr>\n",
              "    <tr>\n",
              "      <th>bunga</th>\n",
              "      <td>bu.nga (1) (n) (ki) 7</td>\n",
              "      <td>nama yang dipakai untuk beberapa jenis tumbuha...</td>\n",
              "      <td>-- bangkai, -- ketongkeng, -- manila</td>\n",
              "    </tr>\n",
              "    <tr>\n",
              "      <th>bunga</th>\n",
              "      <td>bu.nga (2) (n) (Ek) 1</td>\n",
              "      <td>imbalan jasa untuk penggunaan uang atau modal ...</td>\n",
              "      <td>None</td>\n",
              "    </tr>\n",
              "    <tr>\n",
              "      <th>bunga</th>\n",
              "      <td>bu.nga (2) (n) (Ek) 2</td>\n",
              "      <td>pendapatan atas setiap investasi modal</td>\n",
              "      <td>None</td>\n",
              "    </tr>\n",
              "    <tr>\n",
              "      <th>tahu</th>\n",
              "      <td>ta.hu (1) (v) 1</td>\n",
              "      <td>mengerti sesudah melihat (menyaksikan, mengala...</td>\n",
              "      <td>ia -- bahwa saya yang menolongnya; perkara mes...</td>\n",
              "    </tr>\n",
              "    <tr>\n",
              "      <th>tahu</th>\n",
              "      <td>ta.hu (1) (v) 2</td>\n",
              "      <td>(v)  kenal (akan); mengenal</td>\n",
              "      <td>ia tidak -- akan sanak saudaranya lagi</td>\n",
              "    </tr>\n",
              "    <tr>\n",
              "      <th>tahu</th>\n",
              "      <td>ta.hu (1) (v) 3</td>\n",
              "      <td>mengindahkan; memedulikan</td>\n",
              "      <td>ia sudah tidak mau -- lagi kepada anaknya</td>\n",
              "    </tr>\n",
              "    <tr>\n",
              "      <th>tahu</th>\n",
              "      <td>ta.hu (1) (v) 4</td>\n",
              "      <td>mengerti; berpengertian</td>\n",
              "      <td>siapa yang -- apa maksud tanda ini?</td>\n",
              "    </tr>\n",
              "    <tr>\n",
              "      <th>tahu</th>\n",
              "      <td>ta.hu (1) (v) 5</td>\n",
              "      <td>pandai; cakap</td>\n",
              "      <td>sedikit-sedikit saya -- juga tentang mesin</td>\n",
              "    </tr>\n",
              "    <tr>\n",
              "      <th>tahu</th>\n",
              "      <td>ta.hu (1) (v) 6</td>\n",
              "      <td>insaf; sadar</td>\n",
              "      <td>dia tidak -- akan kekurangannya</td>\n",
              "    </tr>\n",
              "    <tr>\n",
              "      <th>tahu</th>\n",
              "      <td>ta.hu (1) (v) (cak) 7</td>\n",
              "      <td>pernah</td>\n",
              "      <td>petinju itu tidak -- menang, adikku tidak -- m...</td>\n",
              "    </tr>\n",
              "    <tr>\n",
              "      <th>tahu</th>\n",
              "      <td>ta.hu (2) (n)</td>\n",
              "      <td>makanan dari kedelai putih yang digiling halus...</td>\n",
              "      <td>None</td>\n",
              "    </tr>\n",
              "  </tbody>\n",
              "</table>\n",
              "</div>"
            ],
            "text/plain": [
              "                       sense  ...                                           examples\n",
              "word                          ...                                                   \n",
              "bisa           bi.sa (1) (v)  ...             ia -- membaca, tetapi tidak -- menulis\n",
              "bisa         bi.sa (2) (n) 1  ...                                               None\n",
              "bisa    bi.sa (2) (n) (ki) 2  ...             ajaranmu itu akan menjadi -- bagi kami\n",
              "bisa      bi.sa (3) (n) (Wl)  ...                                               None\n",
              "bunga       bu.nga (1) (n) 1  ...                             -- mangga; -- rambutan\n",
              "bunga       bu.nga (1) (n) 2  ...                                -- melati; -- mawar\n",
              "bunga       bu.nga (1) (n) 3  ...                                               None\n",
              "bunga       bu.nga (1) (n) 4  ...                   ceritanya itu sudah banyak --nya\n",
              "bunga       bu.nga (1) (n) 5  ...  sudah tampak --nya bahwa tuntutan kita akan be...\n",
              "bunga  bu.nga (1) (n) (ki) 6  ...                  gadis itu adalah -- di kampungnya\n",
              "bunga  bu.nga (1) (n) (ki) 7  ...               -- bangkai, -- ketongkeng, -- manila\n",
              "bunga  bu.nga (2) (n) (Ek) 1  ...                                               None\n",
              "bunga  bu.nga (2) (n) (Ek) 2  ...                                               None\n",
              "tahu         ta.hu (1) (v) 1  ...  ia -- bahwa saya yang menolongnya; perkara mes...\n",
              "tahu         ta.hu (1) (v) 2  ...             ia tidak -- akan sanak saudaranya lagi\n",
              "tahu         ta.hu (1) (v) 3  ...          ia sudah tidak mau -- lagi kepada anaknya\n",
              "tahu         ta.hu (1) (v) 4  ...                siapa yang -- apa maksud tanda ini?\n",
              "tahu         ta.hu (1) (v) 5  ...         sedikit-sedikit saya -- juga tentang mesin\n",
              "tahu         ta.hu (1) (v) 6  ...                    dia tidak -- akan kekurangannya\n",
              "tahu   ta.hu (1) (v) (cak) 7  ...  petinju itu tidak -- menang, adikku tidak -- m...\n",
              "tahu           ta.hu (2) (n)  ...                                               None\n",
              "\n",
              "[21 rows x 3 columns]"
            ]
          },
          "metadata": {
            "tags": []
          },
          "execution_count": 7
        }
      ]
    },
    {
      "cell_type": "code",
      "metadata": {
        "colab": {
          "base_uri": "https://localhost:8080/"
        },
        "id": "_7zI6tvMQ_FS",
        "outputId": "cf0d2e56-0853-4585-ed19-a6d854753dd9"
      },
      "source": [
        "stopword = set(StopWordRemoverFactory().get_stop_words()) # kata-kata stopword\n",
        "print(stopword)"
      ],
      "execution_count": 8,
      "outputs": [
        {
          "output_type": "stream",
          "text": [
            "{'di', 'oh', 'tentu', 'pun', 'sedangkan', 'ke', 'dengan', 'sesudah', 'demikian', 'seperti', 'dimana', 'setidaknya', 'agak', 'nggak', 'boleh', 'tapi', 'melainkan', 'juga', 'lain', 'apalagi', 'secara', 'walau', 'mengapa', 'sampai', 'menurut', 'saat', 'sebagai', 'bisa', 'bagaimanapun', 'terhadap', 'seharusnya', 'mari', 'antara', 'dahulu', 'harus', 'ok', 'karena', 'amat', 'belum', 'namun', 'hanya', 'pada', 'pula', 'untuk', 'sebelum', 'ini', 'mereka', 'telah', 'yakni', 'sementara', 'demi', 'sudah', 'dia', 'tidak', 'akan', 'serta', 'jika', 'tentang', 'lagi', 'anu', 'bahwa', 'ada', 'daripada', 'selain', 'masih', 'agar', 'saya', 'bagi', 'seolah', 'pasti', 'sehingga', 'kah', 'setelah', 'dan', 'ketika', 'sekitar', 'atau', 'dll', 'selagi', 'dst', 'kemana', 'anda', 'toh', 'dulunya', 'yang', 'ingin', 'sesuatu', 'hal', 'sambil', 'itulah', 'kenapa', 'sebetulnya', 'dua', 'supaya', 'kepada', 'tetapi', 'dapat', 'sebab', 'setiap', 'dari', 'kami', 'adalah', 'guna', 'seraya', 'para', 'tolong', 'ya', 'nanti', 'apakah', 'saja', 'dalam', 'ia', 'kembali', 'kita', 'seterusnya', 'tanpa', 'itu', 'yaitu', 'oleh', 'kecuali', 'begitu', 'dsb', 'maka'}\n"
          ],
          "name": "stdout"
        }
      ]
    },
    {
      "cell_type": "code",
      "metadata": {
        "id": "K4XUknONplm3"
      },
      "source": [
        "def overlapcontext( signature, sentence ):\n",
        "    count = 0\n",
        "    signature = signature.difference(stopword)\n",
        "    sentence = sentence.difference(stopword)\n",
        "    for word in signature:\n",
        "        for word_sense in sentence:\n",
        "            if (word == word_sense):\n",
        "                count += 1\n",
        "                # print(word, word_sense)\n",
        "    return count"
      ],
      "execution_count": 9,
      "outputs": []
    },
    {
      "cell_type": "code",
      "metadata": {
        "id": "n5B9lDQIoarU"
      },
      "source": [
        "def lesk( word, sentence ):\n",
        "    bestsense = None\n",
        "    maxoverlap = 0\n",
        "    senses = thesaurus.loc[word, :]\n",
        "    for id, sense in senses.iterrows():\n",
        "        if sense['examples'] != None:\n",
        "            sense['definition'] = re.sub(r'\\W',' ',sense['definition'])\n",
        "            sense['examples'] = re.sub(r'\\W',' ',sense['examples'])\n",
        "            signature = nltk.word_tokenize(sense['definition']) + nltk.word_tokenize(sense['examples'])\n",
        "        else:\n",
        "            sense['definition'] = re.sub(r'\\W',' ',sense['definition'])\n",
        "            signature = nltk.word_tokenize(sense['definition'])\n",
        "        overlap = overlapcontext(set(signature), set(sentence))\n",
        "        if overlap > maxoverlap:\n",
        "            maxoverlap = overlap\n",
        "            bestsense = sense['sense']\n",
        "    return bestsense"
      ],
      "execution_count": 10,
      "outputs": []
    },
    {
      "cell_type": "code",
      "metadata": {
        "id": "0nONfmqKHzWk"
      },
      "source": [
        "sent_1 = ['saya','bisa','menulis']\n",
        "sent_2 = ['kucing','itu','terkena','bisa','ular','sehingga','mati']\n",
        "sent_3 = ['kamu','memberi','saya','bunga','mawar']\n",
        "sent_4 = ['meminjam','uang','di','bank','akan','terkena','bunga']\n",
        "sent_5 = ['adik','suka','makan','tahu','kedelai']\n",
        "sent_6 = ['ayah','ternyata','tahu','atau','kenal','dengan','dia']"
      ],
      "execution_count": 18,
      "outputs": []
    },
    {
      "cell_type": "code",
      "metadata": {
        "colab": {
          "base_uri": "https://localhost:8080/"
        },
        "id": "vGo9faOH_0E6",
        "outputId": "0dd09b66-5642-46c1-ee05-8fb134340ce5"
      },
      "source": [
        "print(sent_1)\n",
        "print(lesk('bisa', sent_1))\n",
        "print('_________________________________________________________________')\n",
        "print(sent_2)\n",
        "print(lesk('bisa', sent_2))\n",
        "print('_________________________________________________________________')\n",
        "print(sent_3)\n",
        "print(lesk('bunga', sent_3))\n",
        "print('_________________________________________________________________')\n",
        "print(sent_4)\n",
        "print(lesk('bunga', sent_4))\n",
        "print('_________________________________________________________________')\n",
        "print(sent_5)\n",
        "print(lesk('tahu', sent_5))\n",
        "print('_________________________________________________________________')\n",
        "print(sent_6)\n",
        "print(lesk('tahu', sent_6))"
      ],
      "execution_count": 19,
      "outputs": [
        {
          "output_type": "stream",
          "text": [
            "['saya', 'bisa', 'menulis']\n",
            "bi.sa (1) (v)\n",
            "_________________________________________________________________\n",
            "['kucing', 'itu', 'terkena', 'bisa', 'ular', 'sehingga', 'mati']\n",
            "bi.sa (2) (n) 1\n",
            "_________________________________________________________________\n",
            "['kamu', 'memberi', 'saya', 'bunga', 'mawar']\n",
            "bu.nga (1) (n) 2\n",
            "_________________________________________________________________\n",
            "['meminjam', 'uang', 'di', 'bank', 'akan', 'terkena', 'bunga']\n",
            "bu.nga (1) (n) 2\n",
            "_________________________________________________________________\n",
            "['adik', 'suka', 'makan', 'tahu', 'kedelai']\n",
            "ta.hu (2) (n)\n",
            "_________________________________________________________________\n",
            "['ayah', 'ternyata', 'tahu', 'atau', 'kenal', 'dengan', 'dia']\n",
            "ta.hu (1) (v) 2\n"
          ],
          "name": "stdout"
        }
      ]
    }
  ]
}